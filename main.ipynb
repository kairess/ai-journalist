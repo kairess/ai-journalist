{
 "cells": [
  {
   "cell_type": "markdown",
   "metadata": {},
   "source": [
    "# AI Journalist\n",
    "\n",
    "AI-Powered Article Generator: Collects and analyzes the latest news to craft high-quality articles autonomously.\n",
    "\n",
    "AI 기반 자동 기사 생성 시스템: 최신 뉴스를 수집하고 분석하여 고품질의 기사를 작성합니다.\n",
    "\n",
    "## What we want to know\n",
    "\n",
    "- 기존 기사 데이터를 바탕으로 새로운 기사를 생성할 수 있는가\n",
    "- Cost effective 하면서도 높은 품질의 기사를 생성할 수 있는가\n",
    "\n",
    "## Pipeline\n",
    "\n",
    "1. 필요한 라이브러리 설치 및 API 키 설정\n",
    "2. 주제 설정 (\"아이폰 16 출시 및 스펙\")\n",
    "3. AI(Claude)를 사용해 주제와 관련된 5개의 검색어 생성 (Claude 3 Haiku)\n",
    "4. 생성된 검색어로 Google 뉴스 검색 수행 (SerpAPI)\n",
    "5. 각 검색 결과에서 AI가 가장 관련성 높은 기사 선택 (Claude 3 Haiku)\n",
    "6. 선택된 기사들의 본문 내용 추출\n",
    "7. 추출된 내용을 바탕으로 AI가 한국어로 NYT 스타일의 기사 작성 (Claude 3.5 Sonnet)\n",
    "\n",
    "## API Usage while development\n",
    "\n",
    "Total cost: $0.3464 (461.29 South Korean won)\n",
    "\n",
    "Claude 3 Haiku\n",
    "- Input: $0.0049 (0.019 Million Input Tokens)\n",
    "- Output: $0.0015 (0.001 Million Output Tokens)\n",
    "\n",
    "Claude 3.5 Sonnet\n",
    "- Input: $0.21 (0.071 Million Input Tokens) \n",
    "- Output: $0.13 (0.008 Million Output Tokens)\n",
    "\n",
    "### Reference\n",
    "\n",
    "- https://github.com/mshumer/ai-journalist\n",
    "- YouTube [빵형의 개발도상국](https://www.youtube.com/@bbanghyong)"
   ]
  },
  {
   "cell_type": "code",
   "execution_count": null,
   "metadata": {},
   "outputs": [],
   "source": [
    "%pip install anthropic\n",
    "%pip install google-search-results\n",
    "%pip install newspaper3k"
   ]
  },
  {
   "cell_type": "markdown",
   "metadata": {},
   "source": [
    "## API keys\n",
    "\n",
    "- https://console.anthropic.com/settings/keys\n",
    "- https://serpapi.com/dashboard"
   ]
  },
  {
   "cell_type": "code",
   "execution_count": 1,
   "metadata": {},
   "outputs": [],
   "source": [
    "import anthropic\n",
    "\n",
    "ANTHROPIC_API_KEY = \"YOUR_ANTHROPIC_API_KEY\"\n",
    "SERP_API_KEY = \"YOUR_SERP_API_KEY\""
   ]
  },
  {
   "cell_type": "markdown",
   "metadata": {},
   "source": [
    "## Topic"
   ]
  },
  {
   "cell_type": "code",
   "execution_count": 31,
   "metadata": {},
   "outputs": [
    {
     "name": "stdout",
     "output_type": "stream",
     "text": [
      "아이폰 16 출시 및 스펙\n"
     ]
    }
   ],
   "source": [
    "topic = \"아이폰 16 출시 및 스펙\"\n",
    "\n",
    "print(topic)"
   ]
  },
  {
   "cell_type": "markdown",
   "metadata": {},
   "source": [
    "## Search Terms\n",
    "\n",
    "Topic을 바탕으로 5개의 검색어 생성\n",
    "\n",
    "상대적으로 저렴한 Claude 3 Haiku 모델을 사용하여 검색어 생성\n",
    "\n",
    "[Claude 모델 종류](https://docs.anthropic.com/en/docs/about-claude/models)"
   ]
  },
  {
   "cell_type": "code",
   "execution_count": 54,
   "metadata": {},
   "outputs": [
    {
     "name": "stdout",
     "output_type": "stream",
     "text": [
      "['iPhone 16 release date', 'iPhone 16 specifications', 'iPhone 16 features', 'iPhone 16 design', 'iPhone 16 rumors']\n"
     ]
    }
   ],
   "source": [
    "client = anthropic.Anthropic(api_key=ANTHROPIC_API_KEY)\n",
    "\n",
    "system_prompt = \"You are a world-class journalist. Generate a list of 5 search terms to search for to research and write an article about the topic.\"\n",
    "messages = [{\n",
    "    \"role\": \"user\",\n",
    "    \"content\": [{\n",
    "        \"type\": \"text\",\n",
    "        \"text\": f\"Please provide a list of 5 search terms related to '{topic}' for researching and writing an article. Respond with the search terms in a Python-parseable list, separated by commas. Ensure the search terms are specific to the topic and not too general. Ensure the search terms are written in English.\\n\\ne.g. ['search term 1', 'search term 2', 'search term 3', 'search term 4', 'search term 5']\"\n",
    "    }]\n",
    "}]\n",
    "\n",
    "message = client.messages.create(\n",
    "    model=\"claude-3-haiku-20240307\",\n",
    "    max_tokens=200,\n",
    "    temperature=0.5,\n",
    "    system=system_prompt,\n",
    "    messages=messages,\n",
    ")\n",
    "\n",
    "print(message.content[0].text)"
   ]
  },
  {
   "cell_type": "markdown",
   "metadata": {},
   "source": [
    "### Parse search terms\n",
    "\n",
    "String을 Python list 형식으로 변환"
   ]
  },
  {
   "cell_type": "code",
   "execution_count": 55,
   "metadata": {},
   "outputs": [
    {
     "name": "stdout",
     "output_type": "stream",
     "text": [
      "['iPhone 16 release date', 'iPhone 16 specifications', 'iPhone 16 features', 'iPhone 16 design', 'iPhone 16 rumors']\n"
     ]
    }
   ],
   "source": [
    "import re\n",
    "\n",
    "response = message.content[0].text\n",
    "list_pattern = r'\\[(.*?)\\]'\n",
    "match = re.search(list_pattern, response)\n",
    "\n",
    "if match:\n",
    "    list_string = match.group(1)\n",
    "    search_terms = [term.strip().strip(\"'\") for term in list_string.split(',')]\n",
    "    print(search_terms)\n",
    "else:\n",
    "    print(\"리스트를 찾을 수 없습니다.\")"
   ]
  },
  {
   "cell_type": "markdown",
   "metadata": {},
   "source": [
    "## Search for news articles\n",
    "\n",
    "1. 각 검색어에 대해 뉴스 검색 수행 (Google Search)\n",
    "2. 검색 결과에서 가장 관련성 높은 기사 선택 (Claude 3 Haiku)\n"
   ]
  },
  {
   "cell_type": "code",
   "execution_count": 66,
   "metadata": {},
   "outputs": [
    {
     "name": "stdout",
     "output_type": "stream",
     "text": [
      "1\n",
      "3\n",
      "4\n",
      "8\n",
      "1\n",
      "['https://www.sify.com/science-tech/iphone-16-price-release-date-specs-more/', 'https://www.indiatoday.in/amp/technology/news/story/iphone-16-vs-iphone-15-india-price-specs-features-and-more-compared-2598601-2024-09-12', 'https://www.macrumors.com/guide/iphone-15-pro-vs-iphone-16-pro/', 'https://www.businessinsider.com/guides/tech/iphone-16', 'https://wccftech.com/iphone-16-wired-charging-speeds-go-up-to-45w/']\n"
     ]
    }
   ],
   "source": [
    "from serpapi import GoogleSearch\n",
    "\n",
    "relevant_urls = []\n",
    "\n",
    "for term in search_terms:\n",
    "    params = {\n",
    "        \"engine\": \"google\",\n",
    "        \"q\": term,\n",
    "        \"api_key\": SERP_API_KEY,\n",
    "        \"tbs\": \"sbd:1\", # sort by date\n",
    "        \"tbm\": \"nws\", # news\n",
    "        \"location\": \"New York, New York, United States\",\n",
    "        \"gl\": \"us\",\n",
    "        \"hl\": \"en\",\n",
    "    }\n",
    "\n",
    "    search = GoogleSearch(params)\n",
    "    results = search.get_dict()\n",
    "    news_results = results[\"news_results\"]\n",
    "\n",
    "    news_results_title = \"\\n\".join([f\"{i+1}. {result['title']}\" for i, result in enumerate(news_results)])\n",
    "\n",
    "    system_prompt = \"You are a journalist assistant. From the given search results, select the title that seems most relevant and informative for writing an article on the topic.\"\n",
    "    messages = [{\n",
    "        \"role\": \"user\",\n",
    "        \"content\": [{\n",
    "            \"type\": \"text\",\n",
    "            \"text\": f\"Search Results:\\n{news_results_title}\\n\\nPlease select the single number of the title that seems most relevant for writing an article on the topic '{topic}'. Respond with the single number of the title that seems most relevant. Ensure return the number only.\\n\\ne.g. 1\"\n",
    "        }]\n",
    "    }]\n",
    "\n",
    "    message = client.messages.create(\n",
    "        model=\"claude-3-haiku-20240307\",\n",
    "        max_tokens=2,\n",
    "        temperature=0,\n",
    "        system=system_prompt,\n",
    "        messages=messages,\n",
    "    )\n",
    "    relevant_id = int(message.content[0].text) - 1\n",
    "    print(relevant_id)\n",
    "    relevant_urls.extend([news_results[relevant_id][\"link\"]])\n",
    "\n",
    "print(relevant_urls)"
   ]
  },
  {
   "cell_type": "code",
   "execution_count": 69,
   "metadata": {},
   "outputs": [
    {
     "data": {
      "text/plain": [
       "{'position': 1,\n",
       " 'link': 'https://www.techradar.com/phones/iphone/iphone-16-pro-max',\n",
       " 'title': 'iPhone 16 Pro Max: a new button, improved cameras, a bigger screen, and more',\n",
       " 'source': 'TechRadar',\n",
       " 'date': '1 hour ago',\n",
       " 'snippet': 'The most highly anticipated smartphone series of the year has arrived, with \\nthe iPhone 16, the iPhone 16 Plus, the iPhone 16 Pro, and – at the top of \\nthe...',\n",
       " 'thumbnail': 'https://serpapi.com/searches/66e2dd75987217328c5bb8d6/images/33f4ee0c0ec4acc9879e1f062231bc37ba2f6599b3c0e9f9b0fc7e1d9cc28393.jpeg'}"
      ]
     },
     "execution_count": 69,
     "metadata": {},
     "output_type": "execute_result"
    }
   ],
   "source": [
    "news_results[0]"
   ]
  },
  {
   "cell_type": "markdown",
   "metadata": {},
   "source": [
    "## Extract article content\n",
    "\n",
    "각 기사의 본문 내용 크롤링 및 추출, 파싱 (Newspaper3k)"
   ]
  },
  {
   "cell_type": "code",
   "execution_count": 67,
   "metadata": {},
   "outputs": [
    {
     "name": "stdout",
     "output_type": "stream",
     "text": [
      "42435\n",
      "As the iPhone 16 release date gets announced, here’s all you need to know about Apple’s latest offering!\n",
      "\n",
      "Apple introduced its latest iPhone earlier this month and at long last, we have all the details! The iPhone 16 and the iPhone 16 Plus will be releasing alongside the iPhone 16 Pro and the iPhone 16 Pro Max.\n",
      "\n",
      "All four models will come with an upgraded A18 chip that supports Apple Intelligence, a dual lens camera that takes extremely, a Camera Control button to access the camera quickly and an\n"
     ]
    }
   ],
   "source": [
    "from newspaper import Article\n",
    "\n",
    "article_texts = \"\"\n",
    "\n",
    "for url in relevant_urls:\n",
    "    try:\n",
    "        article = Article(url)\n",
    "        article.download()\n",
    "        article.parse()\n",
    "        article_texts += article.text\n",
    "    except Exception as e:\n",
    "        print(f\"Error parsing article from {url}: {e}\")\n",
    "\n",
    "print(len(article_texts))\n",
    "print(article_texts[:500])"
   ]
  },
  {
   "cell_type": "markdown",
   "metadata": {},
   "source": [
    "## Generate article\n",
    "\n",
    "Claude 3.5 Sonnet 모델을 사용하여 고품질의 기사 생성"
   ]
  },
  {
   "cell_type": "code",
   "execution_count": 68,
   "metadata": {},
   "outputs": [
    {
     "name": "stdout",
     "output_type": "stream",
     "text": [
      "애플의 새로운 아이폰 16 시리즈: AI와 혁신의 만남\n",
      "\n",
      "애플이 지난 월요일 \"Glowtime\" 이벤트에서 아이폰 16 시리즈를 공식 발표했다. 이번 신제품은 애플의 새로운 AI 기술인 '애플 인텔리전스'를 탑재하고, 새로운 세대의 프로세서와 하드웨어 업그레이드를 포함하여 지금까지 출시된 아이폰 중 가장 뛰어난 성능을 자랑할 것으로 기대된다.\n",
      "\n",
      "아이폰 16 시리즈는 기존 아이폰 15 시리즈와 동일하게 네 가지 모델로 구성된다: 아이폰 16, 아이폰 16 플러스, 아이폰 16 프로, 아이폰 16 프로 맥스. 이번에도 '미니' 모델은 출시되지 않았으며, 루머로 떠돌던 '울트라' 모델 역시 이번에는 등장하지 않았다.\n",
      "\n",
      "새로운 아이폰 16 시리즈의 가장 큰 특징은 AI 기능인 '애플 인텔리전스'의 도입이다. 이 기능은 짧은 메모를 완전한 문장으로 바꾸거나, AI 이모지를 생성하고, 사진을 텍스트 설명으로 찾는 등 다양한 기능을 제공한다. 또한 시리의 성능도 크게 개선되어, 화면에 보이는 내용을 인식하고 그에 따른 작업을 수행할 수 있게 되었다.\n",
      "\n",
      "카메라 부문에서도 상당한 개선이 이루어졌다. 기본 모델인 아이폰 16과 16 플러스는 전작과 동일한 48MP 메인 카메라와 12MP 초광각 카메라를 탑재했지만, 초광각 카메라에 오토포커스 기능이 추가되어 매크로 촬영이 가능해졌다. 프로 모델들은 더욱 강력한 카메라 시스템을 갖추었는데, 특히 아이폰 16 프로의 줌 카메라가 3배에서 5배로 업그레이드된 점이 눈에 띈다.\n",
      "\n",
      "성능 면에서는 모든 모델이 새로운 A18 프로세서를 탑재했다. 애플은 기본 모델의 경우 전작 대비 30% 빠른 성능을, 프로 모델의 경우 AI 처리 속도가 15% 향상되었다고 밝혔다. 이는 게임 및 AI 애플리케이션 실행 시 더욱 빠르고 부드러운 경험을 제공할 것으로 기대된다.\n",
      "\n",
      "디스플레이 부문에서는 프로 모델들의 화면 크기가 커졌다. 아이폰 16 프로는 6.3인치, 프로 맥스는 6.9인치로 각각 0.2인치씩 증가했다. 또한 모든 모델에 2세대 세라믹 실드 글래스가 적용되어 내구성이 50% 향상되었다고 한다.\n",
      "\n",
      "배터리 수명도 개선되어, 기본 모델은 22시간, 프로 맥스 모델은 33시간의 비디오 재생이 가능하다고 애플은 주장한다. 충전 속도도 향상되어 모든 모델이 최대 45W의 유선 충전을 지원한다는 점이 주목할 만하다.\n",
      "\n",
      "디자인 측면에서는 기본 모델들이 세로로 정렬된 카메라 디자인으로 변경되었고, 프로 모델들은 전작의 디자인을 유지했다. 새로운 색상 옵션도 추가되어 소비자들의 선택의 폭을 넓혔다.\n",
      "\n",
      "아이폰 16 시리즈의 또 다른 주목할 만한 특징은 새로운 '카메라 컨트롤' 버튼의 도입이다. 이 버튼은 다양한 터치와 제스처를 인식하여 카메라 앱을 빠르게 실행하고, 줌 조절, 노출 조정 등 다양한 기능을 제공한다.\n",
      "\n",
      "아이폰 16 시리즈는 9월 13일부터 사전 주문이 시작되며, 9월 20일부터 정식 출시된다. 가격은 전작과 동일한 수준으로 책정되었다.\n",
      "\n",
      "이번 아이폰 16 시리즈는 AI 기능의 도입, 카메라 성능 향상, 배터리 수명 개선 등 다양한 측면에서 진화를 이루었다. 특히 AI 기능은 향후 스마트폰 사용 경험을 크게 변화시킬 것으로 예상된다. 다만, 아이폰 15 사용자들에게는 큰 변화를 체감하기 어려울 수 있으며, 오래된 모델 사용자들에게 더 매력적인 업그레이드가 될 것으로 보인다.\n",
      "\n",
      "결론적으로, 아이폰 16 시리즈는 애플의 혁신 정신을 잘 보여주는 제품이라 할 수 있다. AI 기술의 도입, 카메라 성능 향상, 배터리 수명 개선 등 다양한 측면에서 사용자 경험을 개선하고자 하는 애플의 노력이 돋보인다. 다만, 이러한 개선사항들이 실제 사용 환경에서 어떤 효과를 발휘할지는 실제 제품 출시 후 사용자들의 평가를 지켜봐야 할 것이다.\n"
     ]
    }
   ],
   "source": [
    "system_prompt = \"You are a journalist. Write a high-quality, NYT-worthy article on the given topic based on the provided article texts. The article should be well-structured, informative, and engaging to Korean readers.\"\n",
    "messages = [{\n",
    "    \"role\": \"user\",\n",
    "    \"content\": [{\n",
    "        \"type\": \"text\",\n",
    "        \"text\": f\"Topic: {topic}\\n\\nArticle Texts:\\n{article_texts}\\n\\nPlease write a high-quality, NYT-worthy article on the topic based on the provided article texts. The article should be well-structured, informative, and engaging. Ensure the length is at least as long as a NYT cover story -- at a minimum, 15 paragraphs. Ensure the article is written in Korean.\"\n",
    "    }]\n",
    "}]\n",
    "\n",
    "message = client.messages.create(\n",
    "    model=\"claude-3-5-sonnet-20240620\",\n",
    "    max_tokens=3000,\n",
    "    temperature=0.5,\n",
    "    system=system_prompt,\n",
    "    messages=messages,\n",
    ")\n",
    "\n",
    "print(message.content[0].text)"
   ]
  },
  {
   "cell_type": "code",
   "execution_count": 70,
   "metadata": {},
   "outputs": [],
   "source": [
    "with open(\"news.txt\", \"w\", encoding=\"utf-8\") as f:\n",
    "    f.write(message.content[0].text)"
   ]
  }
 ],
 "metadata": {
  "kernelspec": {
   "display_name": "base",
   "language": "python",
   "name": "python3"
  },
  "language_info": {
   "codemirror_mode": {
    "name": "ipython",
    "version": 3
   },
   "file_extension": ".py",
   "mimetype": "text/x-python",
   "name": "python",
   "nbconvert_exporter": "python",
   "pygments_lexer": "ipython3",
   "version": "3.10.9"
  }
 },
 "nbformat": 4,
 "nbformat_minor": 2
}
